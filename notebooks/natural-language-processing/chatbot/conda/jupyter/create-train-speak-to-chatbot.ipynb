{
 "cells": [
  {
   "cell_type": "markdown",
   "metadata": {
    "tags": []
   },
   "source": [
    "# Tutorial : Train and deploy a rasa chatbot\n",
    "\n",
    "The goal of this tutorial is to create, train and speak with an assistant. This assistant will be able to speak to you and say hello. To use the real chatbot, please open a vscode repository. \n",
    "\n",
    "## Install the requirements\n",
    "\n",
    "The project was created in a venv environment. To add it in a jupyter environment, you must install pip and the file requirements_rasa.txt. Run this for simplification. You just have to run the next cell one time. It permits to install rasa and play with the chatbot. You can stop and restart your notebook, the ressource will always be here. "
   ]
  },
  {
   "cell_type": "code",
   "execution_count": 1,
   "metadata": {
    "collapsed": true,
    "jupyter": {
     "outputs_hidden": true
    },
    "tags": []
   },
   "outputs": [
    {
     "name": "stdout",
     "output_type": "stream",
     "text": [
      "Defaulting to user installation because normal site-packages is not writeable\n",
      "Requirement already satisfied: absl-py==0.13.0 in /home/vvitchef/.local/lib/python3.8/site-packages (from -r /home/vvitchef/ai-training-examples/notebooks/natural-language-processing/chatbot/conda/rasa_bot/requirements_rasa.txt (line 1)) (0.13.0)\n",
      "Collecting aio-pika==8.2.4\n",
      "  Downloading aio_pika-8.2.4-py3-none-any.whl (49 kB)\n",
      "\u001b[2K     \u001b[38;2;114;156;31m━━━━━━━━━━━━━━━━━━━━━━━━━━━━━━━━━━━━━━━━\u001b[0m \u001b[32m50.0/50.0 kB\u001b[0m \u001b[31m7.2 MB/s\u001b[0m eta \u001b[36m0:00:00\u001b[0m\n",
      "\u001b[?25hRequirement already satisfied: aiofiles==22.1.0 in /home/vvitchef/.local/lib/python3.8/site-packages (from -r /home/vvitchef/ai-training-examples/notebooks/natural-language-processing/chatbot/conda/rasa_bot/requirements_rasa.txt (line 3)) (22.1.0)\n",
      "Collecting aiogram==2.15\n",
      "  Downloading aiogram-2.15-py3-none-any.whl (184 kB)\n",
      "\u001b[2K     \u001b[38;2;114;156;31m━━━━━━━━━━━━━━━━━━━━━━━━━━━━━━━━━━━━━━\u001b[0m \u001b[32m184.2/184.2 kB\u001b[0m \u001b[31m27.9 MB/s\u001b[0m eta \u001b[36m0:00:00\u001b[0m\n",
      "\u001b[?25hRequirement already satisfied: aiohttp==3.7.4 in /home/vvitchef/.local/lib/python3.8/site-packages (from -r /home/vvitchef/ai-training-examples/notebooks/natural-language-processing/chatbot/conda/rasa_bot/requirements_rasa.txt (line 5)) (3.7.4)\n",
      "Collecting aiormq==6.4.2\n",
      "  Downloading aiormq-6.4.2-py3-none-any.whl (34 kB)\n",
      "Requirement already satisfied: APScheduler==3.7.0 in /home/vvitchef/.local/lib/python3.8/site-packages (from -r /home/vvitchef/ai-training-examples/notebooks/natural-language-processing/chatbot/conda/rasa_bot/requirements_rasa.txt (line 7)) (3.7.0)\n",
      "Requirement already satisfied: astunparse==1.6.3 in /home/vvitchef/.local/lib/python3.8/site-packages (from -r /home/vvitchef/ai-training-examples/notebooks/natural-language-processing/chatbot/conda/rasa_bot/requirements_rasa.txt (line 8)) (1.6.3)\n",
      "Requirement already satisfied: async-timeout==3.0.1 in /home/vvitchef/.local/lib/python3.8/site-packages (from -r /home/vvitchef/ai-training-examples/notebooks/natural-language-processing/chatbot/conda/rasa_bot/requirements_rasa.txt (line 9)) (3.0.1)\n",
      "Requirement already satisfied: attrs==21.2.0 in /home/vvitchef/.local/lib/python3.8/site-packages (from -r /home/vvitchef/ai-training-examples/notebooks/natural-language-processing/chatbot/conda/rasa_bot/requirements_rasa.txt (line 10)) (21.2.0)\n",
      "Collecting Babel==2.10.3\n",
      "  Downloading Babel-2.10.3-py3-none-any.whl (9.5 MB)\n",
      "\u001b[2K     \u001b[38;2;114;156;31m━━━━━━━━━━━━━━━━━━━━━━━━━━━━━━━━━━━━━━━━\u001b[0m \u001b[32m9.5/9.5 MB\u001b[0m \u001b[31m96.8 MB/s\u001b[0m eta \u001b[36m0:00:00\u001b[0m31m85.9 MB/s\u001b[0m eta \u001b[36m0:00:01\u001b[0m\n",
      "\u001b[?25hRequirement already satisfied: bidict==0.22.0 in /home/vvitchef/.local/lib/python3.8/site-packages (from -r /home/vvitchef/ai-training-examples/notebooks/natural-language-processing/chatbot/conda/rasa_bot/requirements_rasa.txt (line 12)) (0.22.0)\n",
      "Collecting boto3==1.24.89\n",
      "  Downloading boto3-1.24.89-py3-none-any.whl (132 kB)\n",
      "\u001b[2K     \u001b[38;2;114;156;31m━━━━━━━━━━━━━━━━━━━━━━━━━━━━━━━━━━━━━\u001b[0m \u001b[32m132.5/132.5 kB\u001b[0m \u001b[31m152.0 MB/s\u001b[0m eta \u001b[36m0:00:00\u001b[0m\n",
      "\u001b[?25hCollecting botocore==1.27.89\n",
      "  Downloading botocore-1.27.89-py3-none-any.whl (9.2 MB)\n",
      "\u001b[2K     \u001b[38;2;114;156;31m━━━━━━━━━━━━━━━━━━━━━━━━━━━━━━━━━━━━━━━━\u001b[0m \u001b[32m9.2/9.2 MB\u001b[0m \u001b[31m95.5 MB/s\u001b[0m eta \u001b[36m0:00:00\u001b[0m31m92.7 MB/s\u001b[0m eta \u001b[36m0:00:01\u001b[0m\n",
      "\u001b[?25hCollecting brotlipy==0.7.0\n",
      "  Downloading brotlipy-0.7.0-cp38-cp38-manylinux1_x86_64.whl (1.1 MB)\n",
      "\u001b[2K     \u001b[38;2;114;156;31m━━━━━━━━━━━━━━━━━━━━━━━━━━━━━━━━━━━━━━━━\u001b[0m \u001b[32m1.1/1.1 MB\u001b[0m \u001b[31m141.0 MB/s\u001b[0m eta \u001b[36m0:00:00\u001b[0m\n",
      "\u001b[?25hRequirement already satisfied: CacheControl==0.12.11 in /home/vvitchef/.local/lib/python3.8/site-packages (from -r /home/vvitchef/ai-training-examples/notebooks/natural-language-processing/chatbot/conda/rasa_bot/requirements_rasa.txt (line 16)) (0.12.11)\n",
      "Collecting cachetools==4.2.4\n",
      "  Downloading cachetools-4.2.4-py3-none-any.whl (10 kB)\n",
      "Requirement already satisfied: certifi==2022.9.24 in /home/vvitchef/.local/lib/python3.8/site-packages (from -r /home/vvitchef/ai-training-examples/notebooks/natural-language-processing/chatbot/conda/rasa_bot/requirements_rasa.txt (line 18)) (2022.9.24)\n",
      "Requirement already satisfied: cffi==1.15.1 in /home/vvitchef/.local/lib/python3.8/site-packages (from -r /home/vvitchef/ai-training-examples/notebooks/natural-language-processing/chatbot/conda/rasa_bot/requirements_rasa.txt (line 19)) (1.15.1)\n",
      "Requirement already satisfied: chardet==3.0.4 in /usr/lib/python3/dist-packages (from -r /home/vvitchef/ai-training-examples/notebooks/natural-language-processing/chatbot/conda/rasa_bot/requirements_rasa.txt (line 20)) (3.0.4)\n",
      "Requirement already satisfied: charset-normalizer==2.1.1 in /home/vvitchef/.local/lib/python3.8/site-packages (from -r /home/vvitchef/ai-training-examples/notebooks/natural-language-processing/chatbot/conda/rasa_bot/requirements_rasa.txt (line 21)) (2.1.1)\n",
      "Requirement already satisfied: cloudpickle==1.6.0 in /home/vvitchef/.local/lib/python3.8/site-packages (from -r /home/vvitchef/ai-training-examples/notebooks/natural-language-processing/chatbot/conda/rasa_bot/requirements_rasa.txt (line 22)) (1.6.0)\n",
      "Requirement already satisfied: colorclass==2.2.2 in /home/vvitchef/.local/lib/python3.8/site-packages (from -r /home/vvitchef/ai-training-examples/notebooks/natural-language-processing/chatbot/conda/rasa_bot/requirements_rasa.txt (line 23)) (2.2.2)\n",
      "Requirement already satisfied: coloredlogs==15.0.1 in /home/vvitchef/.local/lib/python3.8/site-packages (from -r /home/vvitchef/ai-training-examples/notebooks/natural-language-processing/chatbot/conda/rasa_bot/requirements_rasa.txt (line 24)) (15.0.1)\n",
      "Requirement already satisfied: colorhash==1.0.4 in /home/vvitchef/.local/lib/python3.8/site-packages (from -r /home/vvitchef/ai-training-examples/notebooks/natural-language-processing/chatbot/conda/rasa_bot/requirements_rasa.txt (line 25)) (1.0.4)\n",
      "Requirement already satisfied: cryptography==38.0.1 in /home/vvitchef/.local/lib/python3.8/site-packages (from -r /home/vvitchef/ai-training-examples/notebooks/natural-language-processing/chatbot/conda/rasa_bot/requirements_rasa.txt (line 26)) (38.0.1)\n",
      "Requirement already satisfied: cycler==0.11.0 in /home/vvitchef/.local/lib/python3.8/site-packages (from -r /home/vvitchef/ai-training-examples/notebooks/natural-language-processing/chatbot/conda/rasa_bot/requirements_rasa.txt (line 27)) (0.11.0)\n",
      "Collecting dask==2022.2.0\n",
      "  Downloading dask-2022.2.0-py3-none-any.whl (1.1 MB)\n",
      "\u001b[2K     \u001b[38;2;114;156;31m━━━━━━━━━━━━━━━━━━━━━━━━━━━━━━━━━━━━━━━━\u001b[0m \u001b[32m1.1/1.1 MB\u001b[0m \u001b[31m218.2 MB/s\u001b[0m eta \u001b[36m0:00:00\u001b[0m\n",
      "\u001b[?25hRequirement already satisfied: dnspython==1.16.0 in /home/vvitchef/.local/lib/python3.8/site-packages (from -r /home/vvitchef/ai-training-examples/notebooks/natural-language-processing/chatbot/conda/rasa_bot/requirements_rasa.txt (line 29)) (1.16.0)\n",
      "Requirement already satisfied: docopt==0.6.2 in /home/vvitchef/.local/lib/python3.8/site-packages (from -r /home/vvitchef/ai-training-examples/notebooks/natural-language-processing/chatbot/conda/rasa_bot/requirements_rasa.txt (line 30)) (0.6.2)\n",
      "Requirement already satisfied: fbmessenger==6.0.0 in /home/vvitchef/.local/lib/python3.8/site-packages (from -r /home/vvitchef/ai-training-examples/notebooks/natural-language-processing/chatbot/conda/rasa_bot/requirements_rasa.txt (line 31)) (6.0.0)\n",
      "Requirement already satisfied: fire==0.4.0 in /home/vvitchef/.local/lib/python3.8/site-packages (from -r /home/vvitchef/ai-training-examples/notebooks/natural-language-processing/chatbot/conda/rasa_bot/requirements_rasa.txt (line 32)) (0.4.0)\n",
      "Collecting flatbuffers==2.0.7\n",
      "  Downloading flatbuffers-2.0.7-py2.py3-none-any.whl (26 kB)\n",
      "Requirement already satisfied: fsspec==2022.8.2 in /home/vvitchef/.local/lib/python3.8/site-packages (from -r /home/vvitchef/ai-training-examples/notebooks/natural-language-processing/chatbot/conda/rasa_bot/requirements_rasa.txt (line 34)) (2022.8.2)\n",
      "Requirement already satisfied: future==0.18.2 in /usr/lib/python3/dist-packages (from -r /home/vvitchef/ai-training-examples/notebooks/natural-language-processing/chatbot/conda/rasa_bot/requirements_rasa.txt (line 35)) (0.18.2)\n",
      "Requirement already satisfied: gast==0.4.0 in /home/vvitchef/.local/lib/python3.8/site-packages (from -r /home/vvitchef/ai-training-examples/notebooks/natural-language-processing/chatbot/conda/rasa_bot/requirements_rasa.txt (line 36)) (0.4.0)\n",
      "Collecting google-auth==1.35.0\n",
      "  Downloading google_auth-1.35.0-py2.py3-none-any.whl (152 kB)\n",
      "\u001b[2K     \u001b[38;2;114;156;31m━━━━━━━━━━━━━━━━━━━━━━━━━━━━━━━━━━━━━\u001b[0m \u001b[32m152.9/152.9 kB\u001b[0m \u001b[31m246.9 MB/s\u001b[0m eta \u001b[36m0:00:00\u001b[0m\n",
      "\u001b[?25hRequirement already satisfied: google-auth-oauthlib==0.4.6 in /home/vvitchef/.local/lib/python3.8/site-packages (from -r /home/vvitchef/ai-training-examples/notebooks/natural-language-processing/chatbot/conda/rasa_bot/requirements_rasa.txt (line 38)) (0.4.6)\n",
      "Requirement already satisfied: google-pasta==0.2.0 in /home/vvitchef/.local/lib/python3.8/site-packages (from -r /home/vvitchef/ai-training-examples/notebooks/natural-language-processing/chatbot/conda/rasa_bot/requirements_rasa.txt (line 39)) (0.2.0)\n",
      "Collecting greenlet==1.1.3.post0\n",
      "  Downloading greenlet-1.1.3.post0-cp38-cp38-manylinux_2_17_x86_64.manylinux2014_x86_64.whl (157 kB)\n",
      "\u001b[2K     \u001b[38;2;114;156;31m━━━━━━━━━━━━━━━━━━━━━━━━━━━━━━━━━━━━━\u001b[0m \u001b[32m157.4/157.4 kB\u001b[0m \u001b[31m117.6 MB/s\u001b[0m eta \u001b[36m0:00:00\u001b[0m\n",
      "\u001b[?25hRequirement already satisfied: grpcio==1.49.1 in /home/vvitchef/.local/lib/python3.8/site-packages (from -r /home/vvitchef/ai-training-examples/notebooks/natural-language-processing/chatbot/conda/rasa_bot/requirements_rasa.txt (line 41)) (1.49.1)\n",
      "Collecting h5py==3.7.0\n",
      "  Downloading h5py-3.7.0-cp38-cp38-manylinux_2_12_x86_64.manylinux2010_x86_64.whl (4.5 MB)\n",
      "\u001b[2K     \u001b[38;2;114;156;31m━━━━━━━━━━━━━━━━━━━━━━━━━━━━━━━━━━━━━━━━\u001b[0m \u001b[32m4.5/4.5 MB\u001b[0m \u001b[31m108.8 MB/s\u001b[0m eta \u001b[36m0:00:00\u001b[0m MB/s\u001b[0m eta \u001b[36m0:00:01\u001b[0m\n",
      "\u001b[?25hRequirement already satisfied: httptools==0.5.0 in /home/vvitchef/.local/lib/python3.8/site-packages (from -r /home/vvitchef/ai-training-examples/notebooks/natural-language-processing/chatbot/conda/rasa_bot/requirements_rasa.txt (line 43)) (0.5.0)\n",
      "Requirement already satisfied: humanfriendly==10.0 in /home/vvitchef/.local/lib/python3.8/site-packages (from -r /home/vvitchef/ai-training-examples/notebooks/natural-language-processing/chatbot/conda/rasa_bot/requirements_rasa.txt (line 44)) (10.0)\n",
      "Requirement already satisfied: idna==3.4 in /home/vvitchef/.local/lib/python3.8/site-packages (from -r /home/vvitchef/ai-training-examples/notebooks/natural-language-processing/chatbot/conda/rasa_bot/requirements_rasa.txt (line 45)) (3.4)\n",
      "Collecting importlib-metadata==5.0.0\n",
      "  Downloading importlib_metadata-5.0.0-py3-none-any.whl (21 kB)\n",
      "Collecting importlib-resources==5.10.0\n",
      "  Downloading importlib_resources-5.10.0-py3-none-any.whl (34 kB)\n",
      "Requirement already satisfied: jmespath==1.0.1 in /home/vvitchef/.local/lib/python3.8/site-packages (from -r /home/vvitchef/ai-training-examples/notebooks/natural-language-processing/chatbot/conda/rasa_bot/requirements_rasa.txt (line 48)) (1.0.1)\n",
      "Requirement already satisfied: joblib==1.0.1 in /home/vvitchef/.local/lib/python3.8/site-packages (from -r /home/vvitchef/ai-training-examples/notebooks/natural-language-processing/chatbot/conda/rasa_bot/requirements_rasa.txt (line 49)) (1.0.1)\n",
      "Requirement already satisfied: jsonpickle==2.0.0 in /home/vvitchef/.local/lib/python3.8/site-packages (from -r /home/vvitchef/ai-training-examples/notebooks/natural-language-processing/chatbot/conda/rasa_bot/requirements_rasa.txt (line 50)) (2.0.0)\n",
      "Collecting jsonschema==4.4.0\n",
      "  Downloading jsonschema-4.4.0-py3-none-any.whl (72 kB)\n",
      "\u001b[2K     \u001b[38;2;114;156;31m━━━━━━━━━━━━━━━━━━━━━━━━━━━━━━━━━━━━━━━\u001b[0m \u001b[32m72.7/72.7 kB\u001b[0m \u001b[31m121.9 MB/s\u001b[0m eta \u001b[36m0:00:00\u001b[0m\n",
      "\u001b[?25hRequirement already satisfied: kafka-python==2.0.2 in /home/vvitchef/.local/lib/python3.8/site-packages (from -r /home/vvitchef/ai-training-examples/notebooks/natural-language-processing/chatbot/conda/rasa_bot/requirements_rasa.txt (line 52)) (2.0.2)\n",
      "Collecting keras==2.7.0\n",
      "  Downloading keras-2.7.0-py2.py3-none-any.whl (1.3 MB)\n",
      "\u001b[2K     \u001b[38;2;114;156;31m━━━━━━━━━━━━━━━━━━━━━━━━━━━━━━━━━━━━━━━━\u001b[0m \u001b[32m1.3/1.3 MB\u001b[0m \u001b[31m187.1 MB/s\u001b[0m eta \u001b[36m0:00:00\u001b[0m\n",
      "\u001b[?25hRequirement already satisfied: Keras-Preprocessing==1.1.2 in /home/vvitchef/.local/lib/python3.8/site-packages (from -r /home/vvitchef/ai-training-examples/notebooks/natural-language-processing/chatbot/conda/rasa_bot/requirements_rasa.txt (line 54)) (1.1.2)\n",
      "Requirement already satisfied: kiwisolver==1.4.4 in /home/vvitchef/.local/lib/python3.8/site-packages (from -r /home/vvitchef/ai-training-examples/notebooks/natural-language-processing/chatbot/conda/rasa_bot/requirements_rasa.txt (line 55)) (1.4.4)\n",
      "Collecting libclang==14.0.6\n",
      "  Downloading libclang-14.0.6-py2.py3-none-manylinux2010_x86_64.whl (14.1 MB)\n",
      "\u001b[2K     \u001b[38;2;114;156;31m━━━━━━━━━━━━━━━━━━━━━━━━━━━━━━━━━━━━━━━━\u001b[0m \u001b[32m14.1/14.1 MB\u001b[0m \u001b[31m99.7 MB/s\u001b[0m eta \u001b[36m0:00:00\u001b[0m1m101.1 MB/s\u001b[0m eta \u001b[36m0:00:01\u001b[0m\n",
      "\u001b[?25hRequirement already satisfied: locket==1.0.0 in /home/vvitchef/.local/lib/python3.8/site-packages (from -r /home/vvitchef/ai-training-examples/notebooks/natural-language-processing/chatbot/conda/rasa_bot/requirements_rasa.txt (line 57)) (1.0.0)\n",
      "Requirement already satisfied: Markdown==3.4.1 in /home/vvitchef/.local/lib/python3.8/site-packages (from -r /home/vvitchef/ai-training-examples/notebooks/natural-language-processing/chatbot/conda/rasa_bot/requirements_rasa.txt (line 58)) (3.4.1)\n",
      "Requirement already satisfied: MarkupSafe==2.1.1 in /home/vvitchef/.local/lib/python3.8/site-packages (from -r /home/vvitchef/ai-training-examples/notebooks/natural-language-processing/chatbot/conda/rasa_bot/requirements_rasa.txt (line 59)) (2.1.1)\n",
      "Requirement already satisfied: matplotlib==3.3.4 in /home/vvitchef/.local/lib/python3.8/site-packages (from -r /home/vvitchef/ai-training-examples/notebooks/natural-language-processing/chatbot/conda/rasa_bot/requirements_rasa.txt (line 60)) (3.3.4)\n",
      "Requirement already satisfied: mattermostwrapper==2.2 in /home/vvitchef/.local/lib/python3.8/site-packages (from -r /home/vvitchef/ai-training-examples/notebooks/natural-language-processing/chatbot/conda/rasa_bot/requirements_rasa.txt (line 61)) (2.2)\n",
      "Requirement already satisfied: msgpack==1.0.4 in /home/vvitchef/.local/lib/python3.8/site-packages (from -r /home/vvitchef/ai-training-examples/notebooks/natural-language-processing/chatbot/conda/rasa_bot/requirements_rasa.txt (line 62)) (1.0.4)\n",
      "Requirement already satisfied: multidict==5.2.0 in /home/vvitchef/.local/lib/python3.8/site-packages (from -r /home/vvitchef/ai-training-examples/notebooks/natural-language-processing/chatbot/conda/rasa_bot/requirements_rasa.txt (line 63)) (5.2.0)\n",
      "Requirement already satisfied: networkx==2.6.3 in /home/vvitchef/.local/lib/python3.8/site-packages (from -r /home/vvitchef/ai-training-examples/notebooks/natural-language-processing/chatbot/conda/rasa_bot/requirements_rasa.txt (line 64)) (2.6.3)\n",
      "Requirement already satisfied: numpy==1.19.5 in /home/vvitchef/.local/lib/python3.8/site-packages (from -r /home/vvitchef/ai-training-examples/notebooks/natural-language-processing/chatbot/conda/rasa_bot/requirements_rasa.txt (line 65)) (1.19.5)\n",
      "Requirement already satisfied: oauthlib==3.2.1 in /home/vvitchef/.local/lib/python3.8/site-packages (from -r /home/vvitchef/ai-training-examples/notebooks/natural-language-processing/chatbot/conda/rasa_bot/requirements_rasa.txt (line 66)) (3.2.1)\n",
      "Requirement already satisfied: opt-einsum==3.3.0 in /home/vvitchef/.local/lib/python3.8/site-packages (from -r /home/vvitchef/ai-training-examples/notebooks/natural-language-processing/chatbot/conda/rasa_bot/requirements_rasa.txt (line 67)) (3.3.0)\n",
      "Requirement already satisfied: packaging==20.9 in /home/vvitchef/.local/lib/python3.8/site-packages (from -r /home/vvitchef/ai-training-examples/notebooks/natural-language-processing/chatbot/conda/rasa_bot/requirements_rasa.txt (line 68)) (20.9)\n",
      "Collecting pamqp==3.2.1\n",
      "  Downloading pamqp-3.2.1-py2.py3-none-any.whl (33 kB)\n",
      "Requirement already satisfied: partd==1.3.0 in /home/vvitchef/.local/lib/python3.8/site-packages (from -r /home/vvitchef/ai-training-examples/notebooks/natural-language-processing/chatbot/conda/rasa_bot/requirements_rasa.txt (line 70)) (1.3.0)\n",
      "Requirement already satisfied: Pillow==9.2.0 in /home/vvitchef/.local/lib/python3.8/site-packages (from -r /home/vvitchef/ai-training-examples/notebooks/natural-language-processing/chatbot/conda/rasa_bot/requirements_rasa.txt (line 71)) (9.2.0)\n",
      "Collecting prompt-toolkit==3.0.28\n",
      "  Downloading prompt_toolkit-3.0.28-py3-none-any.whl (380 kB)\n",
      "\u001b[2K     \u001b[38;2;114;156;31m━━━━━━━━━━━━━━━━━━━━━━━━━━━━━━━━━━━━━\u001b[0m \u001b[32m380.2/380.2 kB\u001b[0m \u001b[31m268.4 MB/s\u001b[0m eta \u001b[36m0:00:00\u001b[0m\n",
      "\u001b[?25hCollecting protobuf==3.19.6\n",
      "  Downloading protobuf-3.19.6-cp38-cp38-manylinux_2_17_x86_64.manylinux2014_x86_64.whl (1.1 MB)\n",
      "\u001b[2K     \u001b[38;2;114;156;31m━━━━━━━━━━━━━━━━━━━━━━━━━━━━━━━━━━━━━━━━\u001b[0m \u001b[32m1.1/1.1 MB\u001b[0m \u001b[31m148.1 MB/s\u001b[0m eta \u001b[36m0:00:00\u001b[0m\n",
      "\u001b[?25hCollecting psycopg2-binary==2.9.4\n",
      "  Downloading psycopg2_binary-2.9.4-cp38-cp38-manylinux_2_17_x86_64.manylinux2014_x86_64.whl (3.0 MB)\n",
      "\u001b[2K     \u001b[38;2;114;156;31m━━━━━━━━━━━━━━━━━━━━━━━━━━━━━━━━━━━━━━━━\u001b[0m \u001b[32m3.0/3.0 MB\u001b[0m \u001b[31m134.7 MB/s\u001b[0m eta \u001b[36m0:00:00\u001b[0m\n",
      "\u001b[?25hRequirement already satisfied: pyasn1==0.4.8 in /home/vvitchef/.local/lib/python3.8/site-packages (from -r /home/vvitchef/ai-training-examples/notebooks/natural-language-processing/chatbot/conda/rasa_bot/requirements_rasa.txt (line 75)) (0.4.8)\n",
      "Requirement already satisfied: pyasn1-modules==0.2.8 in /home/vvitchef/.local/lib/python3.8/site-packages (from -r /home/vvitchef/ai-training-examples/notebooks/natural-language-processing/chatbot/conda/rasa_bot/requirements_rasa.txt (line 76)) (0.2.8)\n",
      "Collecting pycosat==0.6.3\n",
      "  Downloading pycosat-0.6.3.zip (66 kB)\n",
      "\u001b[2K     \u001b[38;2;114;156;31m━━━━━━━━━━━━━━━━━━━━━━━━━━━━━━━━━━━━━━━\u001b[0m \u001b[32m66.8/66.8 kB\u001b[0m \u001b[31m188.8 MB/s\u001b[0m eta \u001b[36m0:00:00\u001b[0m\n",
      "\u001b[?25h  Preparing metadata (setup.py) ... \u001b[?25ldone\n",
      "\u001b[?25hRequirement already satisfied: pycparser==2.21 in /home/vvitchef/.local/lib/python3.8/site-packages (from -r /home/vvitchef/ai-training-examples/notebooks/natural-language-processing/chatbot/conda/rasa_bot/requirements_rasa.txt (line 78)) (2.21)\n",
      "Requirement already satisfied: pydot==1.4.2 in /home/vvitchef/.local/lib/python3.8/site-packages (from -r /home/vvitchef/ai-training-examples/notebooks/natural-language-processing/chatbot/conda/rasa_bot/requirements_rasa.txt (line 79)) (1.4.2)\n",
      "Requirement already satisfied: PyJWT==2.5.0 in /home/vvitchef/.local/lib/python3.8/site-packages (from -r /home/vvitchef/ai-training-examples/notebooks/natural-language-processing/chatbot/conda/rasa_bot/requirements_rasa.txt (line 80)) (2.5.0)\n",
      "Requirement already satisfied: pykwalify==1.8.0 in /home/vvitchef/.local/lib/python3.8/site-packages (from -r /home/vvitchef/ai-training-examples/notebooks/natural-language-processing/chatbot/conda/rasa_bot/requirements_rasa.txt (line 81)) (1.8.0)\n",
      "Requirement already satisfied: pymongo==3.10.1 in /home/vvitchef/.local/lib/python3.8/site-packages (from -r /home/vvitchef/ai-training-examples/notebooks/natural-language-processing/chatbot/conda/rasa_bot/requirements_rasa.txt (line 82)) (3.10.1)\n",
      "Collecting pyOpenSSL==22.1.0\n",
      "  Downloading pyOpenSSL-22.1.0-py3-none-any.whl (57 kB)\n",
      "\u001b[2K     \u001b[38;2;114;156;31m━━━━━━━━━━━━━━━━━━━━━━━━━━━━━━━━━━━━━━━\u001b[0m \u001b[32m57.0/57.0 kB\u001b[0m \u001b[31m182.3 MB/s\u001b[0m eta \u001b[36m0:00:00\u001b[0m\n",
      "\u001b[?25hRequirement already satisfied: pyparsing==3.0.9 in /home/vvitchef/.local/lib/python3.8/site-packages (from -r /home/vvitchef/ai-training-examples/notebooks/natural-language-processing/chatbot/conda/rasa_bot/requirements_rasa.txt (line 84)) (3.0.9)\n",
      "Requirement already satisfied: pyrsistent==0.18.1 in /home/vvitchef/.local/lib/python3.8/site-packages (from -r /home/vvitchef/ai-training-examples/notebooks/natural-language-processing/chatbot/conda/rasa_bot/requirements_rasa.txt (line 85)) (0.18.1)\n",
      "Requirement already satisfied: python-crfsuite==0.9.8 in /home/vvitchef/.local/lib/python3.8/site-packages (from -r /home/vvitchef/ai-training-examples/notebooks/natural-language-processing/chatbot/conda/rasa_bot/requirements_rasa.txt (line 86)) (0.9.8)\n",
      "Requirement already satisfied: python-dateutil==2.8.2 in /home/vvitchef/.local/lib/python3.8/site-packages (from -r /home/vvitchef/ai-training-examples/notebooks/natural-language-processing/chatbot/conda/rasa_bot/requirements_rasa.txt (line 87)) (2.8.2)\n",
      "Requirement already satisfied: python-engineio==4.3.4 in /home/vvitchef/.local/lib/python3.8/site-packages (from -r /home/vvitchef/ai-training-examples/notebooks/natural-language-processing/chatbot/conda/rasa_bot/requirements_rasa.txt (line 88)) (4.3.4)\n",
      "Requirement already satisfied: python-socketio==5.7.1 in /home/vvitchef/.local/lib/python3.8/site-packages (from -r /home/vvitchef/ai-training-examples/notebooks/natural-language-processing/chatbot/conda/rasa_bot/requirements_rasa.txt (line 89)) (5.7.1)\n",
      "Requirement already satisfied: pytz==2021.3 in /home/vvitchef/.local/lib/python3.8/site-packages (from -r /home/vvitchef/ai-training-examples/notebooks/natural-language-processing/chatbot/conda/rasa_bot/requirements_rasa.txt (line 90)) (2021.3)\n",
      "Requirement already satisfied: PyYAML==6.0 in /home/vvitchef/.local/lib/python3.8/site-packages (from -r /home/vvitchef/ai-training-examples/notebooks/natural-language-processing/chatbot/conda/rasa_bot/requirements_rasa.txt (line 91)) (6.0)\n",
      "Requirement already satisfied: questionary==1.10.0 in /home/vvitchef/.local/lib/python3.8/site-packages (from -r /home/vvitchef/ai-training-examples/notebooks/natural-language-processing/chatbot/conda/rasa_bot/requirements_rasa.txt (line 92)) (1.10.0)\n",
      "Requirement already satisfied: randomname==0.1.5 in /home/vvitchef/.local/lib/python3.8/site-packages (from -r /home/vvitchef/ai-training-examples/notebooks/natural-language-processing/chatbot/conda/rasa_bot/requirements_rasa.txt (line 93)) (0.1.5)\n",
      "Collecting rasa==3.2.10\n",
      "  Downloading rasa-3.2.10-py3-none-any.whl (819 kB)\n",
      "\u001b[2K     \u001b[38;2;114;156;31m━━━━━━━━━━━━━━━━━━━━━━━━━━━━━━━━━━━━━\u001b[0m \u001b[32m819.2/819.2 kB\u001b[0m \u001b[31m184.5 MB/s\u001b[0m eta \u001b[36m0:00:00\u001b[0m\n",
      "\u001b[?25hCollecting rasa-sdk==3.2.2\n",
      "  Downloading rasa_sdk-3.2.2-py3-none-any.whl (41 kB)\n",
      "\u001b[2K     \u001b[38;2;114;156;31m━━━━━━━━━━━━━━━━━━━━━━━━━━━━━━━━━━━━━━━━\u001b[0m \u001b[32m41.1/41.1 kB\u001b[0m \u001b[31m88.6 MB/s\u001b[0m eta \u001b[36m0:00:00\u001b[0m\n",
      "\u001b[?25hRequirement already satisfied: redis==3.5.3 in /home/vvitchef/.local/lib/python3.8/site-packages (from -r /home/vvitchef/ai-training-examples/notebooks/natural-language-processing/chatbot/conda/rasa_bot/requirements_rasa.txt (line 96)) (3.5.3)\n",
      "Collecting regex==2022.4.24\n",
      "  Downloading regex-2022.4.24-cp38-cp38-manylinux_2_17_x86_64.manylinux2014_x86_64.whl (764 kB)\n",
      "\u001b[2K     \u001b[38;2;114;156;31m━━━━━━━━━━━━━━━━━━━━━━━━━━━━━━━━━━━━━\u001b[0m \u001b[32m764.9/764.9 kB\u001b[0m \u001b[31m209.2 MB/s\u001b[0m eta \u001b[36m0:00:00\u001b[0m\n",
      "\u001b[?25hRequirement already satisfied: requests==2.28.1 in /home/vvitchef/.local/lib/python3.8/site-packages (from -r /home/vvitchef/ai-training-examples/notebooks/natural-language-processing/chatbot/conda/rasa_bot/requirements_rasa.txt (line 98)) (2.28.1)\n",
      "Requirement already satisfied: requests-oauthlib==1.3.1 in /home/vvitchef/.local/lib/python3.8/site-packages (from -r /home/vvitchef/ai-training-examples/notebooks/natural-language-processing/chatbot/conda/rasa_bot/requirements_rasa.txt (line 99)) (1.3.1)\n",
      "Collecting requests-toolbelt==0.10.0\n",
      "  Downloading requests_toolbelt-0.10.0-py2.py3-none-any.whl (54 kB)\n",
      "\u001b[2K     \u001b[38;2;114;156;31m━━━━━━━━━━━━━━━━━━━━━━━━━━━━━━━━━━━━━━━━\u001b[0m \u001b[32m54.4/54.4 kB\u001b[0m \u001b[31m80.5 MB/s\u001b[0m eta \u001b[36m0:00:00\u001b[0m\n",
      "\u001b[?25hCollecting rocketchat-API==1.25.0\n",
      "  Downloading rocketchat_API-1.25.0-py3-none-any.whl (19 kB)\n",
      "Requirement already satisfied: rsa==4.9 in /home/vvitchef/.local/lib/python3.8/site-packages (from -r /home/vvitchef/ai-training-examples/notebooks/natural-language-processing/chatbot/conda/rasa_bot/requirements_rasa.txt (line 102)) (4.9)\n",
      "Requirement already satisfied: ruamel.yaml==0.16.13 in /home/vvitchef/.local/lib/python3.8/site-packages (from -r /home/vvitchef/ai-training-examples/notebooks/natural-language-processing/chatbot/conda/rasa_bot/requirements_rasa.txt (line 103)) (0.16.13)\n",
      "Requirement already satisfied: ruamel.yaml.clib==0.2.6 in /home/vvitchef/.local/lib/python3.8/site-packages (from -r /home/vvitchef/ai-training-examples/notebooks/natural-language-processing/chatbot/conda/rasa_bot/requirements_rasa.txt (line 104)) (0.2.6)\n",
      "Requirement already satisfied: s3transfer==0.6.0 in /home/vvitchef/.local/lib/python3.8/site-packages (from -r /home/vvitchef/ai-training-examples/notebooks/natural-language-processing/chatbot/conda/rasa_bot/requirements_rasa.txt (line 105)) (0.6.0)\n",
      "Collecting sanic==21.12.2\n",
      "  Downloading sanic-21.12.2-py3-none-any.whl (156 kB)\n",
      "\u001b[2K     \u001b[38;2;114;156;31m━━━━━━━━━━━━━━━━━━━━━━━━━━━━━━━━━━━━━\u001b[0m \u001b[32m156.5/156.5 kB\u001b[0m \u001b[31m237.0 MB/s\u001b[0m eta \u001b[36m0:00:00\u001b[0m\n",
      "\u001b[?25hCollecting Sanic-Cors==2.0.1\n",
      "  Downloading Sanic_Cors-2.0.1-py2.py3-none-any.whl (17 kB)\n",
      "Requirement already satisfied: sanic-jwt==1.8.0 in /home/vvitchef/.local/lib/python3.8/site-packages (from -r /home/vvitchef/ai-training-examples/notebooks/natural-language-processing/chatbot/conda/rasa_bot/requirements_rasa.txt (line 108)) (1.8.0)\n",
      "Requirement already satisfied: sanic-routing==0.7.2 in /home/vvitchef/.local/lib/python3.8/site-packages (from -r /home/vvitchef/ai-training-examples/notebooks/natural-language-processing/chatbot/conda/rasa_bot/requirements_rasa.txt (line 109)) (0.7.2)\n",
      "Requirement already satisfied: scikit-learn==0.24.2 in /home/vvitchef/.local/lib/python3.8/site-packages (from -r /home/vvitchef/ai-training-examples/notebooks/natural-language-processing/chatbot/conda/rasa_bot/requirements_rasa.txt (line 110)) (0.24.2)\n",
      "Collecting scipy==1.7.3\n",
      "  Downloading scipy-1.7.3-cp38-cp38-manylinux_2_17_x86_64.manylinux2014_x86_64.whl (39.3 MB)\n",
      "\u001b[2K     \u001b[38;2;114;156;31m━━━━━━━━━━━━━━━━━━━━━━━━━━━━━━━━━━━━━━━━\u001b[0m \u001b[32m39.3/39.3 MB\u001b[0m \u001b[31m97.7 MB/s\u001b[0m eta \u001b[36m0:00:00\u001b[0mm eta \u001b[36m0:00:01\u001b[0m0:01\u001b[0m:01\u001b[0m\n",
      "\u001b[?25hRequirement already satisfied: sentry-sdk==1.3.1 in /home/vvitchef/.local/lib/python3.8/site-packages (from -r /home/vvitchef/ai-training-examples/notebooks/natural-language-processing/chatbot/conda/rasa_bot/requirements_rasa.txt (line 112)) (1.3.1)\n",
      "Collecting six==1.16.0\n",
      "  Downloading six-1.16.0-py2.py3-none-any.whl (11 kB)\n",
      "Requirement already satisfied: sklearn-crfsuite==0.3.6 in /home/vvitchef/.local/lib/python3.8/site-packages (from -r /home/vvitchef/ai-training-examples/notebooks/natural-language-processing/chatbot/conda/rasa_bot/requirements_rasa.txt (line 114)) (0.3.6)\n",
      "Requirement already satisfied: slackclient==2.9.4 in /home/vvitchef/.local/lib/python3.8/site-packages (from -r /home/vvitchef/ai-training-examples/notebooks/natural-language-processing/chatbot/conda/rasa_bot/requirements_rasa.txt (line 115)) (2.9.4)\n",
      "Requirement already satisfied: SQLAlchemy==1.4.41 in /home/vvitchef/.local/lib/python3.8/site-packages (from -r /home/vvitchef/ai-training-examples/notebooks/natural-language-processing/chatbot/conda/rasa_bot/requirements_rasa.txt (line 116)) (1.4.41)\n",
      "Collecting tabulate==0.9.0\n",
      "  Downloading tabulate-0.9.0-py3-none-any.whl (35 kB)\n",
      "Requirement already satisfied: tarsafe==0.0.3 in /home/vvitchef/.local/lib/python3.8/site-packages (from -r /home/vvitchef/ai-training-examples/notebooks/natural-language-processing/chatbot/conda/rasa_bot/requirements_rasa.txt (line 118)) (0.0.3)\n",
      "Requirement already satisfied: tensorboard==2.10.1 in /home/vvitchef/.local/lib/python3.8/site-packages (from -r /home/vvitchef/ai-training-examples/notebooks/natural-language-processing/chatbot/conda/rasa_bot/requirements_rasa.txt (line 119)) (2.10.1)\n",
      "Requirement already satisfied: tensorboard-data-server==0.6.1 in /home/vvitchef/.local/lib/python3.8/site-packages (from -r /home/vvitchef/ai-training-examples/notebooks/natural-language-processing/chatbot/conda/rasa_bot/requirements_rasa.txt (line 120)) (0.6.1)\n",
      "Requirement already satisfied: tensorboard-plugin-wit==1.8.1 in /home/vvitchef/.local/lib/python3.8/site-packages (from -r /home/vvitchef/ai-training-examples/notebooks/natural-language-processing/chatbot/conda/rasa_bot/requirements_rasa.txt (line 121)) (1.8.1)\n",
      "Collecting tensorflow==2.7.4\n",
      "  Downloading tensorflow-2.7.4-cp38-cp38-manylinux2010_x86_64.whl (496.0 MB)\n",
      "\u001b[2K     \u001b[38;2;114;156;31m━━━━━━━━━━━━━━━━━━━━━━━━━━━━━━━━━━━━━━\u001b[0m \u001b[32m496.0/496.0 MB\u001b[0m \u001b[31m99.8 MB/s\u001b[0m eta \u001b[36m0:00:00\u001b[0mm eta \u001b[36m0:00:01\u001b[0m[36m0:00:01\u001b[0m\n",
      "\u001b[?25hCollecting tensorflow-addons==0.15.0\n",
      "  Downloading tensorflow_addons-0.15.0-cp38-cp38-manylinux_2_12_x86_64.manylinux2010_x86_64.whl (1.1 MB)\n",
      "\u001b[2K     \u001b[38;2;114;156;31m━━━━━━━━━━━━━━━━━━━━━━━━━━━━━━━━━━━━━━━━\u001b[0m \u001b[32m1.1/1.1 MB\u001b[0m \u001b[31m90.7 MB/s\u001b[0m eta \u001b[36m0:00:00\u001b[0m\n",
      "\u001b[?25hCollecting tensorflow-estimator==2.7.0\n",
      "  Downloading tensorflow_estimator-2.7.0-py2.py3-none-any.whl (463 kB)\n",
      "\u001b[2K     \u001b[38;2;114;156;31m━━━━━━━━━━━━━━━━━━━━━━━━━━━━━━━━━━━━━\u001b[0m \u001b[32m463.1/463.1 kB\u001b[0m \u001b[31m271.1 MB/s\u001b[0m eta \u001b[36m0:00:00\u001b[0m\n",
      "\u001b[?25hRequirement already satisfied: tensorflow-hub==0.12.0 in /home/vvitchef/.local/lib/python3.8/site-packages (from -r /home/vvitchef/ai-training-examples/notebooks/natural-language-processing/chatbot/conda/rasa_bot/requirements_rasa.txt (line 125)) (0.12.0)\n",
      "Collecting tensorflow-io-gcs-filesystem==0.27.0\n",
      "  Downloading tensorflow_io_gcs_filesystem-0.27.0-cp38-cp38-manylinux_2_12_x86_64.manylinux2010_x86_64.whl (2.4 MB)\n",
      "\u001b[2K     \u001b[38;2;114;156;31m━━━━━━━━━━━━━━━━━━━━━━━━━━━━━━━━━━━━━━━━\u001b[0m \u001b[32m2.4/2.4 MB\u001b[0m \u001b[31m152.2 MB/s\u001b[0m eta \u001b[36m0:00:00\u001b[0m\n",
      "\u001b[?25hCollecting tensorflow-text==2.7.3\n",
      "  Downloading tensorflow_text-2.7.3-cp38-cp38-manylinux2010_x86_64.whl (4.9 MB)\n",
      "\u001b[2K     \u001b[38;2;114;156;31m━━━━━━━━━━━━━━━━━━━━━━━━━━━━━━━━━━━━━━━━\u001b[0m \u001b[32m4.9/4.9 MB\u001b[0m \u001b[31m20.6 MB/s\u001b[0m eta \u001b[36m0:00:00\u001b[0m31m14.9 MB/s\u001b[0m eta \u001b[36m0:00:01\u001b[0mm\n",
      "\u001b[?25hCollecting termcolor==2.0.1\n",
      "  Downloading termcolor-2.0.1-py3-none-any.whl (5.4 kB)\n",
      "Requirement already satisfied: terminaltables==3.1.10 in /home/vvitchef/.local/lib/python3.8/site-packages (from -r /home/vvitchef/ai-training-examples/notebooks/natural-language-processing/chatbot/conda/rasa_bot/requirements_rasa.txt (line 129)) (3.1.10)\n",
      "Requirement already satisfied: threadpoolctl==3.1.0 in /home/vvitchef/.local/lib/python3.8/site-packages (from -r /home/vvitchef/ai-training-examples/notebooks/natural-language-processing/chatbot/conda/rasa_bot/requirements_rasa.txt (line 130)) (3.1.0)\n",
      "Requirement already satisfied: toolz==0.12.0 in /home/vvitchef/.local/lib/python3.8/site-packages (from -r /home/vvitchef/ai-training-examples/notebooks/natural-language-processing/chatbot/conda/rasa_bot/requirements_rasa.txt (line 131)) (0.12.0)\n",
      "Requirement already satisfied: tqdm==4.64.1 in /home/vvitchef/.local/lib/python3.8/site-packages (from -r /home/vvitchef/ai-training-examples/notebooks/natural-language-processing/chatbot/conda/rasa_bot/requirements_rasa.txt (line 132)) (4.64.1)\n",
      "Requirement already satisfied: twilio==6.50.1 in /home/vvitchef/.local/lib/python3.8/site-packages (from -r /home/vvitchef/ai-training-examples/notebooks/natural-language-processing/chatbot/conda/rasa_bot/requirements_rasa.txt (line 133)) (6.50.1)\n",
      "Requirement already satisfied: typeguard==2.13.3 in /home/vvitchef/.local/lib/python3.8/site-packages (from -r /home/vvitchef/ai-training-examples/notebooks/natural-language-processing/chatbot/conda/rasa_bot/requirements_rasa.txt (line 134)) (2.13.3)\n",
      "Requirement already satisfied: types-cryptography==3.3.23 in /home/vvitchef/.local/lib/python3.8/site-packages (from -r /home/vvitchef/ai-training-examples/notebooks/natural-language-processing/chatbot/conda/rasa_bot/requirements_rasa.txt (line 135)) (3.3.23)\n",
      "Collecting typing-extensions==3.10.0.2\n",
      "  Downloading typing_extensions-3.10.0.2-py3-none-any.whl (26 kB)\n",
      "Requirement already satisfied: typing-utils==0.1.0 in /home/vvitchef/.local/lib/python3.8/site-packages (from -r /home/vvitchef/ai-training-examples/notebooks/natural-language-processing/chatbot/conda/rasa_bot/requirements_rasa.txt (line 137)) (0.1.0)\n",
      "Requirement already satisfied: tzlocal==2.1 in /home/vvitchef/.local/lib/python3.8/site-packages (from -r /home/vvitchef/ai-training-examples/notebooks/natural-language-processing/chatbot/conda/rasa_bot/requirements_rasa.txt (line 138)) (2.1)\n",
      "Collecting ujson==5.5.0\n",
      "  Downloading ujson-5.5.0-cp38-cp38-manylinux_2_17_x86_64.manylinux2014_x86_64.whl (46 kB)\n",
      "\u001b[2K     \u001b[38;2;114;156;31m━━━━━━━━━━━━━━━━━━━━━━━━━━━━━━━━━━━━━━━\u001b[0m \u001b[32m46.1/46.1 kB\u001b[0m \u001b[31m176.5 MB/s\u001b[0m eta \u001b[36m0:00:00\u001b[0m\n",
      "\u001b[?25hRequirement already satisfied: urllib3==1.26.12 in /home/vvitchef/.local/lib/python3.8/site-packages (from -r /home/vvitchef/ai-training-examples/notebooks/natural-language-processing/chatbot/conda/rasa_bot/requirements_rasa.txt (line 140)) (1.26.12)\n",
      "Requirement already satisfied: uvloop==0.17.0 in /home/vvitchef/.local/lib/python3.8/site-packages (from -r /home/vvitchef/ai-training-examples/notebooks/natural-language-processing/chatbot/conda/rasa_bot/requirements_rasa.txt (line 141)) (0.17.0)\n",
      "Requirement already satisfied: wcwidth==0.2.5 in /home/vvitchef/.local/lib/python3.8/site-packages (from -r /home/vvitchef/ai-training-examples/notebooks/natural-language-processing/chatbot/conda/rasa_bot/requirements_rasa.txt (line 142)) (0.2.5)\n",
      "Requirement already satisfied: webexteamssdk==1.6.1 in /home/vvitchef/.local/lib/python3.8/site-packages (from -r /home/vvitchef/ai-training-examples/notebooks/natural-language-processing/chatbot/conda/rasa_bot/requirements_rasa.txt (line 143)) (1.6.1)\n",
      "Requirement already satisfied: websockets==10.3 in /home/vvitchef/.local/lib/python3.8/site-packages (from -r /home/vvitchef/ai-training-examples/notebooks/natural-language-processing/chatbot/conda/rasa_bot/requirements_rasa.txt (line 144)) (10.3)\n",
      "Requirement already satisfied: Werkzeug==2.2.2 in /home/vvitchef/.local/lib/python3.8/site-packages (from -r /home/vvitchef/ai-training-examples/notebooks/natural-language-processing/chatbot/conda/rasa_bot/requirements_rasa.txt (line 145)) (2.2.2)\n",
      "Collecting wrapt==1.14.1\n",
      "  Downloading wrapt-1.14.1-cp38-cp38-manylinux_2_5_x86_64.manylinux1_x86_64.manylinux_2_17_x86_64.manylinux2014_x86_64.whl (81 kB)\n",
      "\u001b[2K     \u001b[38;2;114;156;31m━━━━━━━━━━━━━━━━━━━━━━━━━━━━━━━━━━━━━━━\u001b[0m \u001b[32m81.0/81.0 kB\u001b[0m \u001b[31m104.4 MB/s\u001b[0m eta \u001b[36m0:00:00\u001b[0m\n",
      "\u001b[?25hRequirement already satisfied: yarl==1.8.1 in /home/vvitchef/.local/lib/python3.8/site-packages (from -r /home/vvitchef/ai-training-examples/notebooks/natural-language-processing/chatbot/conda/rasa_bot/requirements_rasa.txt (line 147)) (1.8.1)\n",
      "Collecting zipp==3.9.0\n",
      "  Downloading zipp-3.9.0-py3-none-any.whl (5.8 kB)\n",
      "Requirement already satisfied: setuptools>=0.7 in /usr/lib/python3/dist-packages (from APScheduler==3.7.0->-r /home/vvitchef/ai-training-examples/notebooks/natural-language-processing/chatbot/conda/rasa_bot/requirements_rasa.txt (line 7)) (45.2.0)\n",
      "Requirement already satisfied: wheel<1.0,>=0.23.0 in /home/vvitchef/.local/lib/python3.8/site-packages (from astunparse==1.6.3->-r /home/vvitchef/ai-training-examples/notebooks/natural-language-processing/chatbot/conda/rasa_bot/requirements_rasa.txt (line 8)) (0.37.1)\n",
      "Building wheels for collected packages: pycosat\n",
      "  Building wheel for pycosat (setup.py) ... \u001b[?25ldone\n",
      "\u001b[?25h  Created wheel for pycosat: filename=pycosat-0.6.3-cp38-cp38-linux_x86_64.whl size=170320 sha256=7472a36486ad5177d8842f75f79984e37b93b0910d871f8d4aa49bc0645fcb28\n",
      "  Stored in directory: /tmp/pip-ephem-wheel-cache-vj_qt2wf/wheels/71/5b/2d/0a9247760f0f008abc0eae7c0127a8c1cddfe1145e4b170fc0\n",
      "Successfully built pycosat\n",
      "Installing collected packages: typing-extensions, tensorflow-estimator, pycosat, libclang, keras, flatbuffers, zipp, wrapt, ujson, termcolor, tensorflow-io-gcs-filesystem, tensorflow-addons, tabulate, six, scipy, regex, psycopg2-binary, protobuf, prompt-toolkit, pamqp, h5py, greenlet, cachetools, Babel, sanic, rocketchat-API, requests-toolbelt, importlib-resources, importlib-metadata, google-auth, dask, brotlipy, aiormq, Sanic-Cors, pyOpenSSL, jsonschema, botocore, aiogram, aio-pika, rasa-sdk, tensorflow, boto3, tensorflow-text, rasa\n",
      "  Attempting uninstall: typing-extensions\n",
      "    Found existing installation: typing-extensions 3.7.4.3\n",
      "    Uninstalling typing-extensions-3.7.4.3:\n",
      "      Successfully uninstalled typing-extensions-3.7.4.3\n",
      "  Attempting uninstall: tensorflow-estimator\n",
      "    Found existing installation: tensorflow-estimator 2.6.0\n",
      "    Uninstalling tensorflow-estimator-2.6.0:\n",
      "      Successfully uninstalled tensorflow-estimator-2.6.0\n",
      "  Attempting uninstall: keras\n",
      "    Found existing installation: keras 2.6.0\n",
      "    Uninstalling keras-2.6.0:\n",
      "      Successfully uninstalled keras-2.6.0\n",
      "  Attempting uninstall: flatbuffers\n",
      "    Found existing installation: flatbuffers 1.12\n",
      "    Uninstalling flatbuffers-1.12:\n",
      "      Successfully uninstalled flatbuffers-1.12\n",
      "  Attempting uninstall: zipp\n",
      "    Found existing installation: zipp 3.8.1\n",
      "    Uninstalling zipp-3.8.1:\n",
      "      Successfully uninstalled zipp-3.8.1\n",
      "  Attempting uninstall: wrapt\n",
      "    Found existing installation: wrapt 1.12.1\n",
      "    Uninstalling wrapt-1.12.1:\n",
      "      Successfully uninstalled wrapt-1.12.1\n",
      "  Attempting uninstall: ujson\n",
      "    Found existing installation: ujson 4.3.0\n",
      "    Uninstalling ujson-4.3.0:\n",
      "      Successfully uninstalled ujson-4.3.0\n",
      "  Attempting uninstall: termcolor\n",
      "    Found existing installation: termcolor 1.1.0\n",
      "    Uninstalling termcolor-1.1.0:\n",
      "      Successfully uninstalled termcolor-1.1.0\n",
      "  Attempting uninstall: tabulate\n",
      "    Found existing installation: tabulate 0.8.10\n",
      "    Uninstalling tabulate-0.8.10:\n",
      "      Successfully uninstalled tabulate-0.8.10\n",
      "  Attempting uninstall: six\n",
      "    Found existing installation: six 1.15.0\n",
      "    Uninstalling six-1.15.0:\n",
      "      Successfully uninstalled six-1.15.0\n",
      "  Attempting uninstall: scipy\n",
      "    Found existing installation: scipy 1.9.1\n",
      "    Uninstalling scipy-1.9.1:\n",
      "      Successfully uninstalled scipy-1.9.1\n",
      "  Attempting uninstall: regex\n",
      "    Found existing installation: regex 2021.8.28\n",
      "    Uninstalling regex-2021.8.28:\n",
      "      Successfully uninstalled regex-2021.8.28\n",
      "  Attempting uninstall: psycopg2-binary\n",
      "    Found existing installation: psycopg2-binary 2.9.3\n",
      "    Uninstalling psycopg2-binary-2.9.3:\n",
      "      Successfully uninstalled psycopg2-binary-2.9.3\n",
      "  Attempting uninstall: protobuf\n",
      "    Found existing installation: protobuf 3.19.5\n",
      "    Uninstalling protobuf-3.19.5:\n",
      "      Successfully uninstalled protobuf-3.19.5\n",
      "  Attempting uninstall: prompt-toolkit\n",
      "    Found existing installation: prompt-toolkit 3.0.31\n",
      "    Uninstalling prompt-toolkit-3.0.31:\n",
      "      Successfully uninstalled prompt-toolkit-3.0.31\n",
      "  Attempting uninstall: pamqp\n",
      "    Found existing installation: pamqp 2.3.0\n",
      "    Uninstalling pamqp-2.3.0:\n",
      "      Successfully uninstalled pamqp-2.3.0\n",
      "  Attempting uninstall: h5py\n",
      "    Found existing installation: h5py 3.1.0\n",
      "    Uninstalling h5py-3.1.0:\n",
      "      Successfully uninstalled h5py-3.1.0\n",
      "  Attempting uninstall: greenlet\n",
      "    Found existing installation: greenlet 1.1.3\n",
      "    Uninstalling greenlet-1.1.3:\n",
      "      Successfully uninstalled greenlet-1.1.3\n",
      "  Attempting uninstall: cachetools\n",
      "    Found existing installation: cachetools 5.2.0\n",
      "    Uninstalling cachetools-5.2.0:\n",
      "      Successfully uninstalled cachetools-5.2.0\n",
      "  Attempting uninstall: sanic\n",
      "    Found existing installation: sanic 21.9.3\n",
      "    Uninstalling sanic-21.9.3:\n",
      "      Successfully uninstalled sanic-21.9.3\n",
      "  Attempting uninstall: rocketchat-API\n",
      "    Found existing installation: rocketchat-API 1.16.0\n",
      "    Uninstalling rocketchat-API-1.16.0:\n",
      "      Successfully uninstalled rocketchat-API-1.16.0\n",
      "  Attempting uninstall: requests-toolbelt\n",
      "    Found existing installation: requests-toolbelt 0.9.1\n",
      "    Uninstalling requests-toolbelt-0.9.1:\n",
      "      Successfully uninstalled requests-toolbelt-0.9.1\n",
      "  Attempting uninstall: importlib-metadata\n",
      "    Found existing installation: importlib-metadata 4.12.0\n",
      "    Uninstalling importlib-metadata-4.12.0:\n",
      "      Successfully uninstalled importlib-metadata-4.12.0\n",
      "  Attempting uninstall: google-auth\n",
      "    Found existing installation: google-auth 2.12.0\n",
      "    Uninstalling google-auth-2.12.0:\n",
      "      Successfully uninstalled google-auth-2.12.0\n",
      "  Attempting uninstall: dask\n",
      "    Found existing installation: dask 2021.7.2\n",
      "    Uninstalling dask-2021.7.2:\n",
      "      Successfully uninstalled dask-2021.7.2\n",
      "  Attempting uninstall: aiormq\n",
      "    Found existing installation: aiormq 3.3.1\n",
      "    Uninstalling aiormq-3.3.1:\n",
      "      Successfully uninstalled aiormq-3.3.1\n",
      "  Attempting uninstall: Sanic-Cors\n",
      "    Found existing installation: Sanic-Cors 1.0.1\n",
      "    Uninstalling Sanic-Cors-1.0.1:\n",
      "      Successfully uninstalled Sanic-Cors-1.0.1\n",
      "  Attempting uninstall: jsonschema\n",
      "    Found existing installation: jsonschema 3.2.0\n",
      "    Uninstalling jsonschema-3.2.0:\n",
      "      Successfully uninstalled jsonschema-3.2.0\n",
      "  Attempting uninstall: botocore\n",
      "    Found existing installation: botocore 1.27.82\n",
      "    Uninstalling botocore-1.27.82:\n",
      "      Successfully uninstalled botocore-1.27.82\n",
      "  Attempting uninstall: aio-pika\n",
      "    Found existing installation: aio-pika 6.8.2\n",
      "    Uninstalling aio-pika-6.8.2:\n",
      "      Successfully uninstalled aio-pika-6.8.2\n",
      "  Attempting uninstall: boto3\n",
      "    Found existing installation: boto3 1.24.82\n",
      "    Uninstalling boto3-1.24.82:\n",
      "      Successfully uninstalled boto3-1.24.82\n",
      "  Attempting uninstall: tensorflow-text\n",
      "    Found existing installation: tensorflow-text 2.6.0\n",
      "    Uninstalling tensorflow-text-2.6.0:\n",
      "      Successfully uninstalled tensorflow-text-2.6.0\n",
      "\u001b[31mERROR: pip's dependency resolver does not currently take into account all the packages that are installed. This behaviour is the source of the following dependency conflicts.\n",
      "launchpadlib 1.10.13 requires testresources, which is not installed.\n",
      "sanic-plugin-toolkit 1.2.1 requires sanic<21.12.0,>=21.3.1, but you have sanic 21.12.2 which is incompatible.\u001b[0m\u001b[31m\n",
      "\u001b[0mSuccessfully installed Babel-2.10.3 Sanic-Cors-2.0.1 aio-pika-8.2.4 aiogram-2.15 aiormq-6.4.2 boto3-1.24.89 botocore-1.27.89 brotlipy-0.7.0 cachetools-4.2.4 dask-2022.2.0 flatbuffers-2.0.7 google-auth-1.35.0 greenlet-1.1.3.post0 h5py-3.7.0 importlib-metadata-5.0.0 importlib-resources-5.10.0 jsonschema-4.4.0 keras-2.7.0 libclang-14.0.6 pamqp-3.2.1 prompt-toolkit-3.0.28 protobuf-3.19.6 psycopg2-binary-2.9.4 pyOpenSSL-22.1.0 pycosat-0.6.3 rasa-3.2.10 rasa-sdk-3.2.2 regex-2022.4.24 requests-toolbelt-0.10.0 rocketchat-API-1.25.0 sanic-21.12.2 scipy-1.7.3 six-1.16.0 tabulate-0.9.0 tensorflow-2.7.4 tensorflow-addons-0.15.0 tensorflow-estimator-2.7.0 tensorflow-io-gcs-filesystem-0.27.0 tensorflow-text-2.7.3 termcolor-2.0.1 typing-extensions-3.10.0.2 ujson-5.5.0 wrapt-1.14.1 zipp-3.9.0\n",
      "\n",
      "\u001b[1m[\u001b[0m\u001b[34;49mnotice\u001b[0m\u001b[1;39;49m]\u001b[0m\u001b[39;49m A new release of pip available: \u001b[0m\u001b[31;49m22.2.2\u001b[0m\u001b[39;49m -> \u001b[0m\u001b[32;49m22.3.1\u001b[0m\n",
      "\u001b[1m[\u001b[0m\u001b[34;49mnotice\u001b[0m\u001b[1;39;49m]\u001b[0m\u001b[39;49m To update, run: \u001b[0m\u001b[32;49mpip install --upgrade pip\u001b[0m\n",
      "Note: you may need to restart the kernel to use updated packages.\n",
      "Defaulting to user installation because normal site-packages is not writeable\n",
      "Requirement already satisfied: nest_asyncio in /home/vvitchef/.local/lib/python3.8/site-packages (1.5.6)\n",
      "\n",
      "\u001b[1m[\u001b[0m\u001b[34;49mnotice\u001b[0m\u001b[1;39;49m]\u001b[0m\u001b[39;49m A new release of pip available: \u001b[0m\u001b[31;49m22.2.2\u001b[0m\u001b[39;49m -> \u001b[0m\u001b[32;49m22.3.1\u001b[0m\n",
      "\u001b[1m[\u001b[0m\u001b[34;49mnotice\u001b[0m\u001b[1;39;49m]\u001b[0m\u001b[39;49m To update, run: \u001b[0m\u001b[32;49mpip install --upgrade pip\u001b[0m\n",
      "Note: you may need to restart the kernel to use updated packages.\n"
     ]
    }
   ],
   "source": [
    "%pip install --no-cache-dir -r ~/ai-training-examples/notebooks/natural-language-processing/chatbot/conda/rasa_bot/requirements_rasa.txt\n",
    "%pip install nest_asyncio"
   ]
  },
  {
   "cell_type": "markdown",
   "metadata": {},
   "source": [
    "## Create the rasa chatbot\n",
    "\n",
    "To Create the chatbot, you will need some data and some configurations files. Of course, you don't have to create them. The rasa package will do it for you. First we will need to install the nest_asynchio package. Just run the next cell and then we will init a small chatbot !\n"
   ]
  },
  {
   "cell_type": "code",
   "execution_count": null,
   "metadata": {},
   "outputs": [
    {
     "ename": "",
     "evalue": "",
     "output_type": "error",
     "traceback": [
      "\u001b[1;31mCanceled future for execute_request message before replies were done"
     ]
    },
    {
     "ename": "",
     "evalue": "",
     "output_type": "error",
     "traceback": [
      "\u001b[1;31mThe Kernel crashed while executing code in the the current cell or a previous cell. Please review the code in the cell(s) to identify a possible cause of the failure. Click <a href='https://aka.ms/vscodeJupyterKernelCrash'>here</a> for more info. View Jupyter <a href='command:jupyter.viewOutput'>log</a> for further details."
     ]
    }
   ],
   "source": [
    "# Restart the Kernel \n",
    "import os\n",
    "os._exit(00)"
   ]
  },
  {
   "cell_type": "code",
   "execution_count": null,
   "metadata": {
    "collapsed": true,
    "jupyter": {
     "outputs_hidden": true
    },
    "tags": []
   },
   "outputs": [],
   "source": [
    "import nest_asyncio"
   ]
  },
  {
   "cell_type": "markdown",
   "metadata": {},
   "source": [
    "Now that we have all the requirements installed, let's create the rasa chatbot. We will create a project. To do this, run this cell. And look, our chatbot has been created ! "
   ]
  },
  {
   "cell_type": "code",
   "execution_count": 3,
   "metadata": {
    "collapsed": true,
    "jupyter": {
     "outputs_hidden": true
    },
    "tags": []
   },
   "outputs": [
    {
     "name": "stdout",
     "output_type": "stream",
     "text": [
      "['tests', 'actions', 'domain.yml', 'endpoints.yml', 'credentials.yml', 'config.yml', 'data']\n"
     ]
    }
   ],
   "source": [
    "from rasa.cli.scaffold import create_initial_project\n",
    "import os\n",
    "\n",
    "\n",
    "project = \"test-project\"\n",
    "create_initial_project(project)\n",
    "\n",
    "# move into project directory and show files\n",
    "os.chdir(project)\n",
    "print(os.listdir(\".\"))"
   ]
  },
  {
   "cell_type": "markdown",
   "metadata": {},
   "source": [
    "## Train the model of your project\n",
    "\n",
    "Ok now, that we have a project created, we will go inside it. This has already be done with the creation of the project. So now, let's just create the rasa model.\n",
    "\n",
    "To do, we have to tell to rasa which files needed for the training of the model. Let's run this cell : "
   ]
  },
  {
   "cell_type": "code",
   "execution_count": 4,
   "metadata": {
    "collapsed": true,
    "jupyter": {
     "outputs_hidden": true
    }
   },
   "outputs": [
    {
     "name": "stdout",
     "output_type": "stream",
     "text": [
      "config.yml data/ domain.yml models/\n"
     ]
    }
   ],
   "source": [
    "config = \"config.yml\"\n",
    "training_files = \"data/\"\n",
    "domain = \"domain.yml\"\n",
    "output = \"models/\"\n",
    "print(config, training_files, domain, output)"
   ]
  },
  {
   "cell_type": "markdown",
   "metadata": {},
   "source": [
    "Now, we are all set to train the model. The model will be save in the output folder. We use the function rasa.train and this function will return the path of where the model will be save. "
   ]
  },
  {
   "cell_type": "code",
   "execution_count": 5,
   "metadata": {
    "collapsed": true,
    "jupyter": {
     "outputs_hidden": true
    }
   },
   "outputs": [
    {
     "name": "stderr",
     "output_type": "stream",
     "text": [
      "/workspace/.miniconda3/lib/python3.9/site-packages/future/standard_library/__init__.py:65: DeprecationWarning: the imp module is deprecated in favour of importlib; see the module's documentation for alternative uses\n",
      "  import imp\n",
      "/workspace/.miniconda3/lib/python3.9/site-packages/requests_toolbelt/_compat.py:56: DeprecationWarning: 'urllib3.contrib.pyopenssl' module is deprecated and will be removed in a future release of urllib3 2.x. Read more in this issue: https://github.com/urllib3/urllib3/issues/2680\n",
      "  from requests.packages.urllib3.contrib.pyopenssl \\\n"
     ]
    },
    {
     "name": "stdout",
     "output_type": "stream",
     "text": [
      "\u001b[94mThe configuration for pipeline and policies was chosen automatically. It was written into the config file at 'config.yml'.\u001b[0m\n"
     ]
    },
    {
     "name": "stderr",
     "output_type": "stream",
     "text": [
      "2022-11-21 11:49:14.703098: W tensorflow/stream_executor/platform/default/dso_loader.cc:64] Could not load dynamic library 'libcuda.so.1'; dlerror: libcuda.so.1: cannot open shared object file: No such file or directory; LD_LIBRARY_PATH: /usr/local/nvidia/lib:/usr/local/nvidia/lib64\n",
      "2022-11-21 11:49:14.703144: W tensorflow/stream_executor/cuda/cuda_driver.cc:269] failed call to cuInit: UNKNOWN ERROR (303)\n",
      "/workspace/.miniconda3/lib/python3.9/site-packages/rasa/utils/tensorflow/model_data.py:762: VisibleDeprecationWarning: Creating an ndarray from ragged nested sequences (which is a list-or-tuple of lists-or-tuples-or ndarrays with different lengths or shapes) is deprecated. If you meant to do this, you must specify 'dtype=object' when creating the ndarray\n",
      "  np.concatenate(np.array(f)),\n",
      "Epochs: 100%|██████████| 100/100 [00:26<00:00,  3.73it/s, t_loss=1.05, i_acc=1]   \n",
      "Processed story blocks: 100%|██████████| 3/3 [00:00<00:00, 372.14it/s, # trackers=1]\n",
      "Processed story blocks: 100%|██████████| 3/3 [00:00<00:00, 182.29it/s, # trackers=3]\n",
      "Processed story blocks: 100%|██████████| 3/3 [00:00<00:00, 155.14it/s, # trackers=12]\n",
      "Processed story blocks: 100%|██████████| 3/3 [00:00<00:00, 32.77it/s, # trackers=39]\n",
      "Processed rules: 100%|██████████| 2/2 [00:00<00:00, 615.81it/s, # trackers=1]\n",
      "Processed trackers: 100%|██████████| 3/3 [00:00<00:00, 165.39it/s, # action=12]\n",
      "Processed actions: 12it [00:00, 1015.22it/s, # examples=12]\n",
      "Processed trackers: 100%|██████████| 2/2 [00:00<00:00, 192.59it/s, # action=5]\n",
      "Processed actions: 5it [00:00, 1470.14it/s, # examples=4]\n",
      "Processed trackers: 100%|██████████| 3/3 [00:00<00:00, 301.95it/s, # action=12]\n",
      "Processed trackers: 100%|██████████| 2/2 [00:00<00:00, 676.83it/s]\n",
      "Processed trackers: 100%|██████████| 5/5 [00:00<00:00, 973.20it/s]\n",
      "Processed trackers: 100%|██████████| 120/120 [00:00<00:00, 1512.98it/s, # action=30]\n",
      "/workspace/.miniconda3/lib/python3.9/site-packages/rasa/utils/tensorflow/model_data_utils.py:388: VisibleDeprecationWarning: Creating an ndarray from ragged nested sequences (which is a list-or-tuple of lists-or-tuples-or ndarrays with different lengths or shapes) is deprecated. If you meant to do this, you must specify 'dtype=object' when creating the ndarray\n",
      "  np.array(values), number_of_dimensions=4\n",
      "/workspace/.miniconda3/lib/python3.9/site-packages/rasa/utils/tensorflow/model_data_utils.py:404: VisibleDeprecationWarning: Creating an ndarray from ragged nested sequences (which is a list-or-tuple of lists-or-tuples-or ndarrays with different lengths or shapes) is deprecated. If you meant to do this, you must specify 'dtype=object' when creating the ndarray\n",
      "  MASK: [FeatureArray(np.array(attribute_masks), number_of_dimensions=3)]\n",
      "Epochs:   0%|          | 0/100 [00:00<?, ?it/s]/workspace/.miniconda3/lib/python3.9/site-packages/tensorflow/python/framework/indexed_slices.py:448: UserWarning: Converting sparse IndexedSlices(IndexedSlices(indices=Tensor(\"gradients/cond_grad/Identity_1:0\", shape=(None,), dtype=int64), values=Tensor(\"gradients/cond_grad/Identity:0\", shape=(None,), dtype=float32), dense_shape=Tensor(\"gradients/cond_grad/Identity_2:0\", shape=(1,), dtype=int32))) to a dense Tensor of unknown shape. This may consume a large amount of memory.\n",
      "  warnings.warn(\n",
      "/workspace/.miniconda3/lib/python3.9/site-packages/tensorflow/python/framework/indexed_slices.py:448: UserWarning: Converting sparse IndexedSlices(IndexedSlices(indices=Tensor(\"gradients/cond_1_grad/Identity_1:0\", shape=(None,), dtype=int64), values=Tensor(\"gradients/cond_1_grad/Identity:0\", shape=(None,), dtype=float32), dense_shape=Tensor(\"gradients/cond_1_grad/Identity_2:0\", shape=(1,), dtype=int32))) to a dense Tensor of unknown shape. This may consume a large amount of memory.\n",
      "  warnings.warn(\n",
      "Epochs: 100%|██████████| 100/100 [00:18<00:00,  5.46it/s, t_loss=3.05, loss=2.9, acc=0.967] \n",
      "Processed trackers: 100%|██████████| 120/120 [00:00<00:00, 2525.81it/s, # intent=12]\n",
      "Epochs: 100%|██████████| 100/100 [00:16<00:00,  6.11it/s, t_loss=0.127, loss=0.0156, acc=1]   \n"
     ]
    },
    {
     "name": "stdout",
     "output_type": "stream",
     "text": [
      "\u001b[92mYour Rasa model is trained and saved at 'models/20221121-114912-fancy-formation.tar.gz'.\u001b[0m\n",
      "TrainingResult(model='models/20221121-114912-fancy-formation.tar.gz', code=0, dry_run_results=None)\n"
     ]
    }
   ],
   "source": [
    "import rasa\n",
    "\n",
    "model_path = rasa.train(domain, config, [training_files], output)\n",
    "print(model_path)"
   ]
  },
  {
   "cell_type": "markdown",
   "metadata": {
    "tags": []
   },
   "source": [
    "## Play with the chatbot\n",
    "\n",
    "Now that we have our model, let's try to play with the chatbot and speak with him. Run the above cell and you will be able to play with him. The cell will create an agent to speak with you. The chatbot can only speak to say hello or good bye, it is not a full chatbot because you've just create it. "
   ]
  },
  {
   "cell_type": "code",
   "execution_count": 6,
   "metadata": {
    "collapsed": true,
    "jupyter": {
     "outputs_hidden": true
    },
    "tags": []
   },
   "outputs": [
    {
     "name": "stdout",
     "output_type": "stream",
     "text": [
      "Event loop ready.\n",
      "Enter '/stop' if you want to stop the conversation with your chatbot ! \n"
     ]
    },
    {
     "name": "stdout",
     "output_type": "stream",
     "text": [
      " hi\n"
     ]
    },
    {
     "name": "stderr",
     "output_type": "stream",
     "text": [
      "/workspace/.miniconda3/lib/python3.9/site-packages/tensorflow/python/framework/indexed_slices.py:448: UserWarning: Converting sparse IndexedSlices(IndexedSlices(indices=Tensor(\"gradients/cond_grad/Identity_1:0\", shape=(None,), dtype=int64), values=Tensor(\"gradients/cond_grad/Identity:0\", shape=(None,), dtype=float32), dense_shape=Tensor(\"gradients/cond_grad/Identity_2:0\", shape=(1,), dtype=int32))) to a dense Tensor of unknown shape. This may consume a large amount of memory.\n",
      "  warnings.warn(\n",
      "/workspace/.miniconda3/lib/python3.9/site-packages/tensorflow/python/framework/indexed_slices.py:448: UserWarning: Converting sparse IndexedSlices(IndexedSlices(indices=Tensor(\"gradients/cond_1_grad/Identity_1:0\", shape=(None,), dtype=int64), values=Tensor(\"gradients/cond_1_grad/Identity:0\", shape=(None,), dtype=float32), dense_shape=Tensor(\"gradients/cond_1_grad/Identity_2:0\", shape=(1,), dtype=int32))) to a dense Tensor of unknown shape. This may consume a large amount of memory.\n",
      "  warnings.warn(\n"
     ]
    },
    {
     "name": "stdout",
     "output_type": "stream",
     "text": [
      "Hey! How are you?\n"
     ]
    },
    {
     "name": "stdout",
     "output_type": "stream",
     "text": [
      " /stop\n"
     ]
    }
   ],
   "source": [
    "from rasa.core.agent import Agent\n",
    "from typing import Any, Dict, Text, Optional\n",
    "import asyncio\n",
    "import nest_asyncio\n",
    "nest_asyncio.apply()\n",
    "print(\"Event loop ready.\")\n",
    "\n",
    "def _display_bot_response(response: Dict):\n",
    "    from IPython.display import Image, display  # pytype: disable=import-error\n",
    "\n",
    "    for response_type, value in response.items():\n",
    "        if response_type == \"text\":\n",
    "            print(value)\n",
    "\n",
    "def handle_text(message):\n",
    "    agent= Agent.load(r\"models\")\n",
    "    \n",
    "    loop = asyncio.get_event_loop()\n",
    "\n",
    "    responses = loop.run_until_complete(agent.handle_text(message))\n",
    "    for response in responses:\n",
    "        _display_bot_response(response)\n",
    "        \n",
    "stop=True\n",
    "print(\"Enter '/stop' if you want to stop the conversation with your chatbot ! \")\n",
    "while (stop):\n",
    "    message=input()\n",
    "    if (message==\"/stop\"):\n",
    "        stop=False\n",
    "    else:\n",
    "        handle_text(message)"
   ]
  }
 ],
 "metadata": {
  "kernelspec": {
   "display_name": "Python 3",
   "language": "python",
   "name": "python3"
  },
  "language_info": {
   "codemirror_mode": {
    "name": "ipython",
    "version": 3
   },
   "file_extension": ".py",
   "mimetype": "text/x-python",
   "name": "python",
   "nbconvert_exporter": "python",
   "pygments_lexer": "ipython3",
   "version": "3.8.10"
  },
  "vscode": {
   "interpreter": {
    "hash": "916dbcbb3f70747c44a77c7bcd40155683ae19c65e1c03b4aa3499c5328201f1"
   }
  }
 },
 "nbformat": 4,
 "nbformat_minor": 4
}
